{
  "cells": [
    {
      "cell_type": "code",
      "execution_count": null,
      "metadata": {
        "colab": {
          "base_uri": "https://localhost:8080/"
        },
        "id": "xf-1pYxWUIDD",
        "outputId": "02736254-1bcb-4703-ec8f-e9f0a91d8a46"
      },
      "outputs": [
        {
          "output_type": "stream",
          "name": "stdout",
          "text": [
            "Looking in indexes: https://pypi.org/simple, https://us-python.pkg.dev/colab-wheels/public/simple/\n",
            "Collecting tensorflow-addons\n",
            "  Downloading tensorflow_addons-0.20.0-cp310-cp310-manylinux_2_17_x86_64.manylinux2014_x86_64.whl (591 kB)\n",
            "\u001b[2K     \u001b[90m━━━━━━━━━━━━━━━━━━━━━━━━━━━━━━━━━━━━━━\u001b[0m \u001b[32m591.0/591.0 kB\u001b[0m \u001b[31m36.7 MB/s\u001b[0m eta \u001b[36m0:00:00\u001b[0m\n",
            "\u001b[?25hRequirement already satisfied: packaging in /usr/local/lib/python3.10/dist-packages (from tensorflow-addons) (23.1)\n",
            "Collecting typeguard<3.0.0,>=2.7\n",
            "  Downloading typeguard-2.13.3-py3-none-any.whl (17 kB)\n",
            "Installing collected packages: typeguard, tensorflow-addons\n",
            "Successfully installed tensorflow-addons-0.20.0 typeguard-2.13.3\n"
          ]
        }
      ],
      "source": [
        "pip install -U tensorflow-addons"
      ]
    },
    {
      "cell_type": "code",
      "execution_count": null,
      "metadata": {
        "id": "CyUXqSbTUK7u",
        "colab": {
          "base_uri": "https://localhost:8080/"
        },
        "outputId": "0566faef-941d-4966-ff79-a86cbc49f0f3"
      },
      "outputs": [
        {
          "output_type": "stream",
          "name": "stderr",
          "text": [
            "/usr/local/lib/python3.10/dist-packages/tensorflow_addons/utils/tfa_eol_msg.py:23: UserWarning: \n",
            "\n",
            "TensorFlow Addons (TFA) has ended development and introduction of new features.\n",
            "TFA has entered a minimal maintenance and release mode until a planned end of life in May 2024.\n",
            "Please modify downstream libraries to take dependencies from other repositories in our TensorFlow community (e.g. Keras, Keras-CV, and Keras-NLP). \n",
            "\n",
            "For more information see: https://github.com/tensorflow/addons/issues/2807 \n",
            "\n",
            "  warnings.warn(\n"
          ]
        }
      ],
      "source": [
        "import numpy as np\n",
        "import tensorflow as tf\n",
        "from tensorflow import keras\n",
        "from tensorflow.keras import layers\n",
        "import tensorflow_addons as tfa"
      ]
    },
    {
      "cell_type": "code",
      "execution_count": null,
      "metadata": {
        "colab": {
          "base_uri": "https://localhost:8080/"
        },
        "id": "nUp1Nk6fUNAj",
        "outputId": "f59941cc-3f31-44c4-fec5-44994e75a681"
      },
      "outputs": [
        {
          "output_type": "stream",
          "name": "stdout",
          "text": [
            "Downloading data from https://www.cs.toronto.edu/~kriz/cifar-100-python.tar.gz\n",
            "169001437/169001437 [==============================] - 13s 0us/step\n",
            "x_train shape: (50000, 32, 32, 3) - y_train shape: (50000, 1)\n",
            "x_test shape: (10000, 32, 32, 3) - y_test shape: (10000, 1)\n"
          ]
        }
      ],
      "source": [
        "num_classes = 100\n",
        "input_shape = (32, 32, 3)\n",
        "\n",
        "(x_train, y_train), (x_test, y_test) = keras.datasets.cifar100.load_data()\n",
        "\n",
        "print(f\"x_train shape: {x_train.shape} - y_train shape: {y_train.shape}\")\n",
        "print(f\"x_test shape: {x_test.shape} - y_test shape: {y_test.shape}\")"
      ]
    },
    {
      "cell_type": "code",
      "execution_count": null,
      "metadata": {
        "id": "f011IrAHUOlJ"
      },
      "outputs": [],
      "source": [
        "learning_rate = 0.001\n",
        "weight_decay = 0.0001\n",
        "batch_size = 256\n",
        "num_epochs = 25\n",
        "image_size = 72  # We'll resize input images to this size\n",
        "patch_size = 6  # Size of the patches to be extract from the input images\n",
        "num_patches = (image_size // patch_size) ** 2\n",
        "projection_dim = 64\n",
        "num_heads = 4\n",
        "transformer_units = [\n",
        "    projection_dim * 2,\n",
        "    projection_dim,\n",
        "]  # Size of the transformer layers\n",
        "transformer_layers = 8\n",
        "mlp_head_units = [2048, 1024]  # Size of the dense layers of the final classifier"
      ]
    },
    {
      "cell_type": "code",
      "execution_count": null,
      "metadata": {
        "id": "IGnD9FkAUQTu"
      },
      "outputs": [],
      "source": [
        "data_augmentation = keras.Sequential(\n",
        "    [\n",
        "        layers.Normalization(),\n",
        "        layers.Resizing(image_size, image_size),\n",
        "        layers.RandomFlip(\"horizontal\"),\n",
        "        layers.RandomRotation(factor=0.02),\n",
        "        layers.RandomZoom(\n",
        "            height_factor=0.2, width_factor=0.2\n",
        "        ),\n",
        "    ],\n",
        "    name=\"data_augmentation\",\n",
        ")\n",
        "# Compute the mean and the variance of the training data for normalization.\n",
        "data_augmentation.layers[0].adapt(x_train)"
      ]
    },
    {
      "cell_type": "code",
      "execution_count": null,
      "metadata": {
        "id": "H7jSg_YZUR9K"
      },
      "outputs": [],
      "source": [
        "def mlp(x, hidden_units, dropout_rate):\n",
        "    for units in hidden_units:\n",
        "        x = layers.Dense(units, activation=tf.nn.gelu)(x)\n",
        "        x = layers.Dropout(dropout_rate)(x)\n",
        "    return x"
      ]
    },
    {
      "cell_type": "code",
      "execution_count": null,
      "metadata": {
        "id": "5u8wBO9jUWks"
      },
      "outputs": [],
      "source": [
        "class Patches(layers.Layer):\n",
        "    def __init__(self, patch_size):\n",
        "        super().__init__()\n",
        "        self.patch_size = patch_size\n",
        "\n",
        "    def call(self, images):\n",
        "        batch_size = tf.shape(images)[0]\n",
        "        patches = tf.image.extract_patches(\n",
        "            images=images,\n",
        "            sizes=[1, self.patch_size, self.patch_size, 1],\n",
        "            strides=[1, self.patch_size, self.patch_size, 1],\n",
        "            rates=[1, 1, 1, 1],\n",
        "            padding=\"VALID\",\n",
        "        )\n",
        "        patch_dims = patches.shape[-1]\n",
        "        patches = tf.reshape(patches, [batch_size, -1, patch_dims])\n",
        "        return patches"
      ]
    },
    {
      "cell_type": "code",
      "execution_count": null,
      "metadata": {
        "colab": {
          "base_uri": "https://localhost:8080/",
          "height": 742
        },
        "id": "C0sbnVqkUYa3",
        "outputId": "e627ebde-b535-4f7d-d208-3c8f8e61e2a0"
      },
      "outputs": [
        {
          "output_type": "stream",
          "name": "stdout",
          "text": [
            "Image size: 72 X 72\n",
            "Patch size: 6 X 6\n",
            "Patches per image: 144\n",
            "Elements per patch: 108\n"
          ]
        },
        {
          "output_type": "display_data",
          "data": {
            "text/plain": [
              "<Figure size 400x400 with 1 Axes>"
            ],
            "image/png": "[encoded data removed]"
          },
          "metadata": {}
        },
        {
          "output_type": "display_data",
          "data": {
            "text/plain": [
              "<Figure size 400x400 with 144 Axes>"
            ],
            "image/png": "[encoded data removed]"
          },
          "metadata": {}
        }
      ],
      "source": [
        "import matplotlib.pyplot as plt\n",
        "\n",
        "plt.figure(figsize=(4, 4))\n",
        "image = x_train[np.random.choice(range(x_train.shape[0]))]\n",
        "plt.imshow(image.astype(\"uint8\"))\n",
        "plt.axis(\"off\")\n",
        "\n",
        "resized_image = tf.image.resize(\n",
        "    tf.convert_to_tensor([image]), size=(image_size, image_size)\n",
        ")\n",
        "patches = Patches(patch_size)(resized_image)\n",
        "print(f\"Image size: {image_size} X {image_size}\")\n",
        "print(f\"Patch size: {patch_size} X {patch_size}\")\n",
        "print(f\"Patches per image: {patches.shape[1]}\")\n",
        "print(f\"Elements per patch: {patches.shape[-1]}\")\n",
        "\n",
        "n = int(np.sqrt(patches.shape[1]))\n",
        "plt.figure(figsize=(4, 4))\n",
        "for i, patch in enumerate(patches[0]):\n",
        "    ax = plt.subplot(n, n, i + 1)\n",
        "    patch_img = tf.reshape(patch, (patch_size, patch_size, 3))\n",
        "    plt.imshow(patch_img.numpy().astype(\"uint8\"))\n",
        "    plt.axis(\"off\")"
      ]
    },
    {
      "cell_type": "code",
      "execution_count": null,
      "metadata": {
        "id": "lF5PVf2vUajA"
      },
      "outputs": [],
      "source": [
        "class PatchEncoder(layers.Layer):\n",
        "    def __init__(self, num_patches, projection_dim):\n",
        "        super().__init__()\n",
        "        self.num_patches = num_patches\n",
        "        self.projection = layers.Dense(units=projection_dim)\n",
        "        self.position_embedding = layers.Embedding(\n",
        "            input_dim=num_patches, output_dim=projection_dim\n",
        "        )\n",
        "\n",
        "    def call(self, patch):\n",
        "        positions = tf.range(start=0, limit=self.num_patches, delta=1)\n",
        "        encoded = self.projection(patch) + self.position_embedding(positions)\n",
        "        return encoded"
      ]
    },
    {
      "cell_type": "code",
      "execution_count": null,
      "metadata": {
        "id": "o2ANnuOfUcrb"
      },
      "outputs": [],
      "source": [
        "def create_vit_classifier():\n",
        "    inputs = layers.Input(shape=input_shape)\n",
        "    # Augment data.\n",
        "    augmented = data_augmentation(inputs)\n",
        "    # Create patches.\n",
        "    patches = Patches(patch_size)(augmented)\n",
        "    # Encode patches.\n",
        "    encoded_patches = PatchEncoder(num_patches, projection_dim)(patches)\n",
        "\n",
        "    # Create multiple layers of the Transformer block.\n",
        "    for _ in range(transformer_layers):\n",
        "        # Layer normalization 1.\n",
        "        x1 = layers.LayerNormalization(epsilon=1e-6)(encoded_patches)\n",
        "        # Create a multi-head attention layer.\n",
        "        attention_output = layers.MultiHeadAttention(\n",
        "            num_heads=num_heads, key_dim=projection_dim, dropout=0.1\n",
        "        )(x1, x1)\n",
        "        # Skip connection 1.\n",
        "        x2 = layers.Add()([attention_output, encoded_patches])\n",
        "        # Layer normalization 2.\n",
        "        x3 = layers.LayerNormalization(epsilon=1e-6)(x2)\n",
        "        # MLP.\n",
        "        x3 = mlp(x3, hidden_units=transformer_units, dropout_rate=0.1)\n",
        "        # Skip connection 2.\n",
        "        encoded_patches = layers.Add()([x3, x2])\n",
        "\n",
        "    # Create a [batch_size, projection_dim] tensor.\n",
        "    representation = layers.LayerNormalization(epsilon=1e-6)(encoded_patches)\n",
        "    representation = layers.Flatten()(representation)\n",
        "    representation = layers.Dropout(0.5)(representation)\n",
        "    # Add MLP.\n",
        "    features = mlp(representation, hidden_units=mlp_head_units, dropout_rate=0.5)\n",
        "    # Classify outputs.\n",
        "    logits = layers.Dense(num_classes)(features)\n",
        "    # Create the Keras model.\n",
        "    model = keras.Model(inputs=inputs, outputs=logits)\n",
        "    return model"
      ]
    },
    {
      "cell_type": "code",
      "execution_count": null,
      "metadata": {
        "colab": {
          "base_uri": "https://localhost:8080/"
        },
        "id": "z4yj3Y6FUe6I",
        "outputId": "6f34a74b-8954-4fe4-96a5-a3cca431a453"
      },
      "outputs": [
        {
          "output_type": "stream",
          "name": "stdout",
          "text": [
            "Epoch 1/25\n",
            "176/176 [==============================] - 82s 383ms/step - loss: 4.4720 - accuracy: 0.0462 - top-5-accuracy: 0.1624 - val_loss: 3.9060 - val_accuracy: 0.1084 - val_top-5-accuracy: 0.3212\n",
            "Epoch 2/25\n",
            "176/176 [==============================] - 66s 376ms/step - loss: 3.9255 - accuracy: 0.0970 - top-5-accuracy: 0.2943 - val_loss: 3.5883 - val_accuracy: 0.1530 - val_top-5-accuracy: 0.4050\n",
            "Epoch 3/25\n",
            "176/176 [==============================] - 66s 378ms/step - loss: 3.6677 - accuracy: 0.1339 - top-5-accuracy: 0.3732 - val_loss: 3.3344 - val_accuracy: 0.1956 - val_top-5-accuracy: 0.4708\n",
            "Epoch 4/25\n",
            "176/176 [==============================] - 67s 379ms/step - loss: 3.4843 - accuracy: 0.1665 - top-5-accuracy: 0.4264 - val_loss: 3.2097 - val_accuracy: 0.2262 - val_top-5-accuracy: 0.5106\n",
            "Epoch 5/25\n",
            "176/176 [==============================] - 66s 378ms/step - loss: 3.3535 - accuracy: 0.1901 - top-5-accuracy: 0.4641 - val_loss: 3.0934 - val_accuracy: 0.2498 - val_top-5-accuracy: 0.5420\n",
            "Epoch 6/25\n",
            "176/176 [==============================] - 67s 379ms/step - loss: 3.2164 - accuracy: 0.2158 - top-5-accuracy: 0.5002 - val_loss: 2.9521 - val_accuracy: 0.2760 - val_top-5-accuracy: 0.5612\n",
            "Epoch 7/25\n",
            "176/176 [==============================] - 67s 380ms/step - loss: 3.0942 - accuracy: 0.2373 - top-5-accuracy: 0.5342 - val_loss: 2.8555 - val_accuracy: 0.2902 - val_top-5-accuracy: 0.5880\n",
            "Epoch 8/25\n",
            "176/176 [==============================] - 66s 378ms/step - loss: 2.9820 - accuracy: 0.2587 - top-5-accuracy: 0.5601 - val_loss: 2.7318 - val_accuracy: 0.3072 - val_top-5-accuracy: 0.6168\n",
            "Epoch 9/25\n",
            "176/176 [==============================] - 67s 378ms/step - loss: 2.8702 - accuracy: 0.2833 - top-5-accuracy: 0.5858 - val_loss: 2.6345 - val_accuracy: 0.3300 - val_top-5-accuracy: 0.6480\n",
            "Epoch 10/25\n",
            "176/176 [==============================] - 67s 379ms/step - loss: 2.7713 - accuracy: 0.2998 - top-5-accuracy: 0.6099 - val_loss: 2.5319 - val_accuracy: 0.3540 - val_top-5-accuracy: 0.6592\n",
            "Epoch 11/25\n",
            "176/176 [==============================] - 67s 380ms/step - loss: 2.6805 - accuracy: 0.3199 - top-5-accuracy: 0.6330 - val_loss: 2.4776 - val_accuracy: 0.3666 - val_top-5-accuracy: 0.6728\n",
            "Epoch 12/25\n",
            "176/176 [==============================] - 67s 379ms/step - loss: 2.5880 - accuracy: 0.3367 - top-5-accuracy: 0.6550 - val_loss: 2.4349 - val_accuracy: 0.3752 - val_top-5-accuracy: 0.6770\n",
            "Epoch 13/25\n",
            "176/176 [==============================] - 67s 378ms/step - loss: 2.5125 - accuracy: 0.3545 - top-5-accuracy: 0.6690 - val_loss: 2.4107 - val_accuracy: 0.3810 - val_top-5-accuracy: 0.6844\n",
            "Epoch 14/25\n",
            "176/176 [==============================] - 67s 379ms/step - loss: 2.4385 - accuracy: 0.3672 - top-5-accuracy: 0.6868 - val_loss: 2.3114 - val_accuracy: 0.3998 - val_top-5-accuracy: 0.7002\n",
            "Epoch 15/25\n",
            "176/176 [==============================] - 67s 379ms/step - loss: 2.3716 - accuracy: 0.3820 - top-5-accuracy: 0.7003 - val_loss: 2.2692 - val_accuracy: 0.4158 - val_top-5-accuracy: 0.7090\n",
            "Epoch 16/25\n",
            "176/176 [==============================] - 67s 380ms/step - loss: 2.3091 - accuracy: 0.3960 - top-5-accuracy: 0.7110 - val_loss: 2.2183 - val_accuracy: 0.4192 - val_top-5-accuracy: 0.7208\n",
            "Epoch 17/25\n",
            "176/176 [==============================] - 67s 380ms/step - loss: 2.2498 - accuracy: 0.4087 - top-5-accuracy: 0.7259 - val_loss: 2.2028 - val_accuracy: 0.4250 - val_top-5-accuracy: 0.7240\n",
            "Epoch 18/25\n",
            "176/176 [==============================] - 67s 379ms/step - loss: 2.1956 - accuracy: 0.4222 - top-5-accuracy: 0.7365 - val_loss: 2.1426 - val_accuracy: 0.4452 - val_top-5-accuracy: 0.7440\n",
            "Epoch 19/25\n",
            "176/176 [==============================] - 66s 373ms/step - loss: 2.1310 - accuracy: 0.4346 - top-5-accuracy: 0.7491 - val_loss: 2.1180 - val_accuracy: 0.4416 - val_top-5-accuracy: 0.7336\n",
            "Epoch 20/25\n",
            "176/176 [==============================] - 67s 379ms/step - loss: 2.0835 - accuracy: 0.4453 - top-5-accuracy: 0.7586 - val_loss: 2.1264 - val_accuracy: 0.4476 - val_top-5-accuracy: 0.7408\n",
            "Epoch 21/25\n",
            "176/176 [==============================] - 67s 380ms/step - loss: 2.0209 - accuracy: 0.4585 - top-5-accuracy: 0.7698 - val_loss: 2.0725 - val_accuracy: 0.4590 - val_top-5-accuracy: 0.7516\n",
            "Epoch 22/25\n",
            "176/176 [==============================] - 66s 378ms/step - loss: 1.9682 - accuracy: 0.4696 - top-5-accuracy: 0.7814 - val_loss: 2.0465 - val_accuracy: 0.4628 - val_top-5-accuracy: 0.7612\n",
            "Epoch 23/25\n",
            "176/176 [==============================] - 67s 379ms/step - loss: 1.9141 - accuracy: 0.4811 - top-5-accuracy: 0.7899 - val_loss: 2.0213 - val_accuracy: 0.4700 - val_top-5-accuracy: 0.7566\n",
            "Epoch 24/25\n",
            "176/176 [==============================] - 66s 373ms/step - loss: 1.8738 - accuracy: 0.4899 - top-5-accuracy: 0.7985 - val_loss: 2.0193 - val_accuracy: 0.4700 - val_top-5-accuracy: 0.7648\n",
            "Epoch 25/25\n",
            "176/176 [==============================] - 67s 378ms/step - loss: 1.8345 - accuracy: 0.4995 - top-5-accuracy: 0.8045 - val_loss: 1.9683 - val_accuracy: 0.4816 - val_top-5-accuracy: 0.7698\n",
            "313/313 [==============================] - 7s 23ms/step - loss: 1.9439 - accuracy: 0.4837 - top-5-accuracy: 0.7754\n",
            "Test accuracy: 48.37%\n",
            "Test top 5 accuracy: 77.54%\n"
          ]
        }
      ],
      "source": [
        "def run_experiment(model):\n",
        "    optimizer = tfa.optimizers.AdamW(\n",
        "        learning_rate=learning_rate, weight_decay=weight_decay\n",
        "    )\n",
        "\n",
        "    model.compile(\n",
        "        optimizer=optimizer,\n",
        "        loss=keras.losses.SparseCategoricalCrossentropy(from_logits=True),\n",
        "        metrics=[\n",
        "            keras.metrics.SparseCategoricalAccuracy(name=\"accuracy\"),\n",
        "            keras.metrics.SparseTopKCategoricalAccuracy(5, name=\"top-5-accuracy\"),\n",
        "        ],\n",
        "    )\n",
        "\n",
        "    checkpoint_filepath = \"/tmp/checkpoint\"\n",
        "    checkpoint_callback = keras.callbacks.ModelCheckpoint(\n",
        "        checkpoint_filepath,\n",
        "        monitor=\"val_accuracy\",\n",
        "        save_best_only=True,\n",
        "        save_weights_only=True,\n",
        "    )\n",
        "\n",
        "    history = model.fit(\n",
        "        x=x_train,\n",
        "        y=y_train,\n",
        "        batch_size=batch_size,\n",
        "        epochs=num_epochs,\n",
        "        validation_split=0.1,\n",
        "        callbacks=[checkpoint_callback],\n",
        "    )\n",
        "\n",
        "    model.load_weights(checkpoint_filepath)\n",
        "    _, accuracy, top_5_accuracy = model.evaluate(x_test, y_test)\n",
        "    print(f\"Test accuracy: {round(accuracy * 100, 2)}%\")\n",
        "    print(f\"Test top 5 accuracy: {round(top_5_accuracy * 100, 2)}%\")\n",
        "\n",
        "    return history\n",
        "\n",
        "\n",
        "vit_classifier = create_vit_classifier()\n",
        "history = run_experiment(vit_classifier)"
      ]
    }
  ],
  "metadata": {
    "accelerator": "GPU",
    "colab": {
      "provenance": []
    },
    "gpuClass": "standard",
    "kernelspec": {
      "display_name": "Python 3",
      "name": "python3"
    },
    "language_info": {
      "name": "python"
    }
  },
  "nbformat": 4,
  "nbformat_minor": 0
}