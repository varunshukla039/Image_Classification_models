{
  "cells": [
    {
      "cell_type": "code",
      "execution_count": null,
      "id": "9e996410",
      "metadata": {
        "scrolled": true,
        "id": "9e996410",
        "outputId": "84728374-1aef-4ea3-fcb9-d5dd6ea1c56f"
      },
      "outputs": [
        {
          "name": "stdout",
          "output_type": "stream",
          "text": [
            "Requirement already satisfied: tensorflow in c:\\users\\chamodi\\appdata\\local\\programs\\python\\python36\\lib\\site-packages (2.5.0)Note: you may need to restart the kernel to use updated packages.\n"
          ]
        },
        {
          "name": "stderr",
          "output_type": "stream",
          "text": [
            "WARNING: You are using pip version 21.1.2; however, version 21.1.3 is available.\n",
            "You should consider upgrading via the 'c:\\users\\chamodi\\appdata\\local\\programs\\python\\python36\\python.exe -m pip install --upgrade pip' command.\n"
          ]
        },
        {
          "name": "stdout",
          "output_type": "stream",
          "text": [
            "\n",
            "Requirement already satisfied: grpcio~=1.34.0 in c:\\users\\chamodi\\appdata\\local\\programs\\python\\python36\\lib\\site-packages (from tensorflow) (1.34.1)\n",
            "Requirement already satisfied: numpy~=1.19.2 in c:\\users\\chamodi\\appdata\\local\\programs\\python\\python36\\lib\\site-packages (from tensorflow) (1.19.3)\n",
            "Requirement already satisfied: typing-extensions~=3.7.4 in c:\\users\\chamodi\\appdata\\local\\programs\\python\\python36\\lib\\site-packages (from tensorflow) (3.7.4.3)\n",
            "Requirement already satisfied: wrapt~=1.12.1 in c:\\users\\chamodi\\appdata\\local\\programs\\python\\python36\\lib\\site-packages (from tensorflow) (1.12.1)\n",
            "Requirement already satisfied: gast==0.4.0 in c:\\users\\chamodi\\appdata\\local\\programs\\python\\python36\\lib\\site-packages (from tensorflow) (0.4.0)\n",
            "Requirement already satisfied: protobuf>=3.9.2 in c:\\users\\chamodi\\appdata\\local\\programs\\python\\python36\\lib\\site-packages (from tensorflow) (3.17.3)\n",
            "Requirement already satisfied: termcolor~=1.1.0 in c:\\users\\chamodi\\appdata\\local\\programs\\python\\python36\\lib\\site-packages (from tensorflow) (1.1.0)\n",
            "Requirement already satisfied: wheel~=0.35 in c:\\users\\chamodi\\appdata\\local\\programs\\python\\python36\\lib\\site-packages (from tensorflow) (0.36.2)\n",
            "Requirement already satisfied: h5py~=3.1.0 in c:\\users\\chamodi\\appdata\\local\\programs\\python\\python36\\lib\\site-packages (from tensorflow) (3.1.0)\n",
            "Requirement already satisfied: google-pasta~=0.2 in c:\\users\\chamodi\\appdata\\local\\programs\\python\\python36\\lib\\site-packages (from tensorflow) (0.2.0)\n",
            "Requirement already satisfied: opt-einsum~=3.3.0 in c:\\users\\chamodi\\appdata\\local\\programs\\python\\python36\\lib\\site-packages (from tensorflow) (3.3.0)\n",
            "Requirement already satisfied: tensorboard~=2.5 in c:\\users\\chamodi\\appdata\\local\\programs\\python\\python36\\lib\\site-packages (from tensorflow) (2.5.0)\n",
            "Requirement already satisfied: astunparse~=1.6.3 in c:\\users\\chamodi\\appdata\\local\\programs\\python\\python36\\lib\\site-packages (from tensorflow) (1.6.3)\n",
            "Requirement already satisfied: keras-nightly~=2.5.0.dev in c:\\users\\chamodi\\appdata\\local\\programs\\python\\python36\\lib\\site-packages (from tensorflow) (2.5.0.dev2021032900)\n",
            "Requirement already satisfied: absl-py~=0.10 in c:\\users\\chamodi\\appdata\\local\\programs\\python\\python36\\lib\\site-packages (from tensorflow) (0.13.0)\n",
            "Requirement already satisfied: flatbuffers~=1.12.0 in c:\\users\\chamodi\\appdata\\local\\programs\\python\\python36\\lib\\site-packages (from tensorflow) (1.12)\n",
            "Requirement already satisfied: keras-preprocessing~=1.1.2 in c:\\users\\chamodi\\appdata\\local\\programs\\python\\python36\\lib\\site-packages (from tensorflow) (1.1.2)\n",
            "Requirement already satisfied: tensorflow-estimator<2.6.0,>=2.5.0rc0 in c:\\users\\chamodi\\appdata\\local\\programs\\python\\python36\\lib\\site-packages (from tensorflow) (2.5.0)\n",
            "Requirement already satisfied: six~=1.15.0 in c:\\users\\chamodi\\appdata\\local\\programs\\python\\python36\\lib\\site-packages (from tensorflow) (1.15.0)\n",
            "Requirement already satisfied: cached-property in c:\\users\\chamodi\\appdata\\local\\programs\\python\\python36\\lib\\site-packages (from h5py~=3.1.0->tensorflow) (1.5.2)\n",
            "Requirement already satisfied: google-auth-oauthlib<0.5,>=0.4.1 in c:\\users\\chamodi\\appdata\\local\\programs\\python\\python36\\lib\\site-packages (from tensorboard~=2.5->tensorflow) (0.4.4)\n",
            "Requirement already satisfied: setuptools>=41.0.0 in c:\\users\\chamodi\\appdata\\local\\programs\\python\\python36\\lib\\site-packages (from tensorboard~=2.5->tensorflow) (57.1.0)\n",
            "Requirement already satisfied: requests<3,>=2.21.0 in c:\\users\\chamodi\\appdata\\local\\programs\\python\\python36\\lib\\site-packages (from tensorboard~=2.5->tensorflow) (2.25.1)\n",
            "Requirement already satisfied: tensorboard-plugin-wit>=1.6.0 in c:\\users\\chamodi\\appdata\\local\\programs\\python\\python36\\lib\\site-packages (from tensorboard~=2.5->tensorflow) (1.8.0)\n",
            "Requirement already satisfied: werkzeug>=0.11.15 in c:\\users\\chamodi\\appdata\\local\\programs\\python\\python36\\lib\\site-packages (from tensorboard~=2.5->tensorflow) (2.0.1)\n",
            "Requirement already satisfied: markdown>=2.6.8 in c:\\users\\chamodi\\appdata\\local\\programs\\python\\python36\\lib\\site-packages (from tensorboard~=2.5->tensorflow) (3.3.4)\n",
            "Requirement already satisfied: tensorboard-data-server<0.7.0,>=0.6.0 in c:\\users\\chamodi\\appdata\\local\\programs\\python\\python36\\lib\\site-packages (from tensorboard~=2.5->tensorflow) (0.6.1)\n",
            "Requirement already satisfied: google-auth<2,>=1.6.3 in c:\\users\\chamodi\\appdata\\local\\programs\\python\\python36\\lib\\site-packages (from tensorboard~=2.5->tensorflow) (1.32.1)\n",
            "Requirement already satisfied: rsa<5,>=3.1.4 in c:\\users\\chamodi\\appdata\\local\\programs\\python\\python36\\lib\\site-packages (from google-auth<2,>=1.6.3->tensorboard~=2.5->tensorflow) (4.7.2)\n",
            "Requirement already satisfied: cachetools<5.0,>=2.0.0 in c:\\users\\chamodi\\appdata\\local\\programs\\python\\python36\\lib\\site-packages (from google-auth<2,>=1.6.3->tensorboard~=2.5->tensorflow) (4.2.2)\n",
            "Requirement already satisfied: pyasn1-modules>=0.2.1 in c:\\users\\chamodi\\appdata\\local\\programs\\python\\python36\\lib\\site-packages (from google-auth<2,>=1.6.3->tensorboard~=2.5->tensorflow) (0.2.8)\n",
            "Requirement already satisfied: requests-oauthlib>=0.7.0 in c:\\users\\chamodi\\appdata\\local\\programs\\python\\python36\\lib\\site-packages (from google-auth-oauthlib<0.5,>=0.4.1->tensorboard~=2.5->tensorflow) (1.3.0)\n",
            "Requirement already satisfied: importlib-metadata in c:\\users\\chamodi\\appdata\\local\\programs\\python\\python36\\lib\\site-packages (from markdown>=2.6.8->tensorboard~=2.5->tensorflow) (4.3.1)\n",
            "Requirement already satisfied: pyasn1<0.5.0,>=0.4.6 in c:\\users\\chamodi\\appdata\\local\\programs\\python\\python36\\lib\\site-packages (from pyasn1-modules>=0.2.1->google-auth<2,>=1.6.3->tensorboard~=2.5->tensorflow) (0.4.8)\n",
            "Requirement already satisfied: chardet<5,>=3.0.2 in c:\\users\\chamodi\\appdata\\local\\programs\\python\\python36\\lib\\site-packages (from requests<3,>=2.21.0->tensorboard~=2.5->tensorflow) (4.0.0)\n",
            "Requirement already satisfied: urllib3<1.27,>=1.21.1 in c:\\users\\chamodi\\appdata\\local\\programs\\python\\python36\\lib\\site-packages (from requests<3,>=2.21.0->tensorboard~=2.5->tensorflow) (1.26.6)\n",
            "Requirement already satisfied: idna<3,>=2.5 in c:\\users\\chamodi\\appdata\\local\\programs\\python\\python36\\lib\\site-packages (from requests<3,>=2.21.0->tensorboard~=2.5->tensorflow) (2.10)\n",
            "Requirement already satisfied: certifi>=2017.4.17 in c:\\users\\chamodi\\appdata\\local\\programs\\python\\python36\\lib\\site-packages (from requests<3,>=2.21.0->tensorboard~=2.5->tensorflow) (2021.5.30)\n",
            "Requirement already satisfied: oauthlib>=3.0.0 in c:\\users\\chamodi\\appdata\\local\\programs\\python\\python36\\lib\\site-packages (from requests-oauthlib>=0.7.0->google-auth-oauthlib<0.5,>=0.4.1->tensorboard~=2.5->tensorflow) (3.1.1)\n",
            "Requirement already satisfied: dataclasses in c:\\users\\chamodi\\appdata\\local\\programs\\python\\python36\\lib\\site-packages (from werkzeug>=0.11.15->tensorboard~=2.5->tensorflow) (0.8)\n",
            "Requirement already satisfied: zipp>=0.5 in c:\\users\\chamodi\\appdata\\local\\programs\\python\\python36\\lib\\site-packages (from importlib-metadata->markdown>=2.6.8->tensorboard~=2.5->tensorflow) (3.4.1)\n"
          ]
        }
      ],
      "source": [
        "pip install tensorflow"
      ]
    },
    {
      "cell_type": "code",
      "execution_count": null,
      "id": "2ceea09d",
      "metadata": {
        "id": "2ceea09d"
      },
      "outputs": [],
      "source": [
        "#install tensorflow, numpy and mnist packages as tensorflow bundle\n",
        "import numpy as np\n",
        "import pandas as pd\n"
      ]
    },
    {
      "cell_type": "code",
      "execution_count": null,
      "id": "1026de6a",
      "metadata": {
        "id": "1026de6a"
      },
      "outputs": [],
      "source": [
        "import matplotlib.pyplot as plt"
      ]
    },
    {
      "cell_type": "code",
      "execution_count": null,
      "id": "ff77dcb0",
      "metadata": {
        "id": "ff77dcb0"
      },
      "outputs": [],
      "source": [
        "from keras.datasets import mnist"
      ]
    },
    {
      "cell_type": "code",
      "execution_count": null,
      "id": "2ce953b2",
      "metadata": {
        "id": "2ce953b2"
      },
      "outputs": [],
      "source": [
        "from tensorflow.keras.models import Sequential"
      ]
    },
    {
      "cell_type": "code",
      "execution_count": null,
      "id": "f8794a9b",
      "metadata": {
        "id": "f8794a9b"
      },
      "outputs": [],
      "source": [
        "from keras.layers import Dense, Dropout, Activation, Flatten"
      ]
    },
    {
      "cell_type": "code",
      "execution_count": null,
      "id": "f1a2c6f8",
      "metadata": {
        "id": "f1a2c6f8"
      },
      "outputs": [],
      "source": [
        "from keras.layers.normalization import BatchNormalization\n",
        "from keras.utils import np_utils\n",
        "from keras.layers import Conv2D, MaxPooling2D, ZeroPadding2D, GlobalAveragePooling2D\n",
        "from keras.layers.advanced_activations import LeakyReLU \n",
        "from keras.preprocessing.image import ImageDataGenerator"
      ]
    },
    {
      "cell_type": "code",
      "execution_count": null,
      "id": "34274426",
      "metadata": {
        "id": "34274426"
      },
      "outputs": [],
      "source": [
        "(X_train, y_train), (X_test, y_test) = mnist.load_data()"
      ]
    },
    {
      "cell_type": "code",
      "execution_count": null,
      "id": "67c2b5e0",
      "metadata": {
        "id": "67c2b5e0",
        "outputId": "f54415e6-3278-4409-daa0-1b5460c2e81e"
      },
      "outputs": [
        {
          "name": "stdout",
          "output_type": "stream",
          "text": [
            "(60000, 28, 28)\n",
            "(60000,)\n"
          ]
        }
      ],
      "source": [
        "print(X_train.shape) # (60000, 28, 28)\n",
        "print(y_train.shape) # (60000,)"
      ]
    },
    {
      "cell_type": "code",
      "execution_count": null,
      "id": "f3cf60c4",
      "metadata": {
        "scrolled": false,
        "id": "f3cf60c4",
        "outputId": "854e095d-f754-40f0-83a5-42e4b87e4e7d"
      },
      "outputs": [
        {
          "data": {
            "image/png": "[encoded data removed]",
            "text/plain": [
              "<Figure size 432x288 with 9 Axes>"
            ]
          },
          "execution_count": 215,
          "metadata": {},
          "output_type": "execute_result"
        },
        {
          "data": {
            "image/png": "[encoded data removed]",
            "text/plain": [
              "<Figure size 432x288 with 9 Axes>"
            ]
          },
          "metadata": {},
          "output_type": "display_data"
        }
      ],
      "source": [
        "#greyscalae visualization of the dataset\n",
        "fig = plt.figure()\n",
        "for i in range(9):\n",
        "    plt.subplot(3,3,i+1)\n",
        "    plt.tight_layout()\n",
        "    plt.imshow(X_train[i], cmap='gray', interpolation='none')\n",
        "    plt.title(\"Digit: {}\".format(y_train[i]))\n",
        "    plt.xticks([])\n",
        "    plt.yticks([])\n",
        "fig"
      ]
    },
    {
      "cell_type": "code",
      "execution_count": null,
      "id": "107405b0",
      "metadata": {
        "id": "107405b0"
      },
      "outputs": [],
      "source": [
        "#plt.imshow(X_train[0], cmap='gray')\n",
        "#plt.title('Class '+ str(y_train[0]))"
      ]
    },
    {
      "cell_type": "code",
      "execution_count": null,
      "id": "b94107b9",
      "metadata": {
        "id": "b94107b9"
      },
      "outputs": [],
      "source": [
        "#Prepare the data"
      ]
    },
    {
      "cell_type": "code",
      "execution_count": null,
      "id": "2aacc8dc",
      "metadata": {
        "id": "2aacc8dc"
      },
      "outputs": [],
      "source": [
        "#Normalize the image pixel values from [0,255] to [-0.5,0.5] to make the network easier to train\n",
        "#Reshape the each image from (28,28) to (28,28,1).\n",
        "#255 maximum RGB value\n",
        "X_train = X_train.reshape(X_train.shape[0], 28, 28, 1)\n",
        "X_test = X_test.reshape(X_test.shape[0], 28, 28, 1)"
      ]
    },
    {
      "cell_type": "code",
      "execution_count": null,
      "id": "27bdb10f",
      "metadata": {
        "id": "27bdb10f"
      },
      "outputs": [],
      "source": [
        "#Convert the values into float as we can get decimal points after divide the value in 255\n",
        "X_train = X_train.astype('float32')\n",
        "X_test = X_test.astype('float32')"
      ]
    },
    {
      "cell_type": "code",
      "execution_count": null,
      "id": "27fda04b",
      "metadata": {
        "id": "27fda04b"
      },
      "outputs": [],
      "source": [
        "#Normalize the images by dividing the maximum RGB value\n",
        "X_train/=255\n",
        "X_train-=0.5\n",
        "X_test/=255\n",
        "X_test-=0.5\n"
      ]
    },
    {
      "cell_type": "code",
      "execution_count": null,
      "id": "c1c77143",
      "metadata": {
        "id": "c1c77143"
      },
      "outputs": [],
      "source": [
        "# Reshape the images.\n",
        "#X_train = np.expand_dims(X_train, axis=3)\n",
        "#X_test = np.expand_dims(X_test, axis=3)\n"
      ]
    },
    {
      "cell_type": "code",
      "execution_count": null,
      "id": "c3876b22",
      "metadata": {
        "id": "c3876b22",
        "outputId": "88a4ded7-74c0-40db-dadb-d73265f47406"
      },
      "outputs": [
        {
          "name": "stdout",
          "output_type": "stream",
          "text": [
            "(60000, 28, 28, 1)\n",
            "(10000, 28, 28, 1)\n"
          ]
        }
      ],
      "source": [
        "print(X_train.shape) # (60000, 28, 28, 1)\n",
        "print(X_test.shape)  # (10000, 28, 28, 1)"
      ]
    },
    {
      "cell_type": "code",
      "execution_count": null,
      "id": "c85938cf",
      "metadata": {
        "id": "c85938cf"
      },
      "outputs": [],
      "source": [
        "#Building the Neural Network model"
      ]
    },
    {
      "cell_type": "code",
      "execution_count": null,
      "id": "e4efa0ad",
      "metadata": {
        "id": "e4efa0ad"
      },
      "outputs": [],
      "source": [
        "number_of_classes = 10\n",
        "\n",
        "Y_train = np_utils.to_categorical(y_train, number_of_classes)\n",
        "Y_test = np_utils.to_categorical(y_test, number_of_classes)"
      ]
    },
    {
      "cell_type": "code",
      "execution_count": null,
      "id": "1b661e2f",
      "metadata": {
        "id": "1b661e2f"
      },
      "outputs": [],
      "source": [
        "#Build the keras model using sequential class which represents the linear stac of layers\n",
        "model = Sequential()\n",
        "#Conv2D(number of filters, fiter_size, input _shape)\n",
        "#the Conv2D parameters are self-explanatory variables\n",
        "#For the later layers keras automatically infer the shapes\n",
        "model.add(Conv2D(32, (3, 3), input_shape=(28,28,1)))\n",
        "model.add(BatchNormalization(axis=-1))\n",
        "model.add(Activation('relu'))\n",
        "model.add(Conv2D(32, (3, 3)))\n",
        "model.add(BatchNormalization(axis=-1))\n",
        "model.add(Activation('relu'))\n",
        "#MaxPooling2D(pool_size=pool_size)\n",
        "model.add(MaxPooling2D(pool_size=(2,2)))\n",
        "\n",
        "model.add(Conv2D(64,(3, 3)))\n",
        "model.add(BatchNormalization(axis=-1))\n",
        "model.add(Activation('relu'))\n",
        "model.add(Conv2D(64, (3, 3)))\n",
        "model.add(BatchNormalization(axis=-1))\n",
        "model.add(Activation('relu'))\n",
        "model.add(MaxPooling2D(pool_size=(2,2)))\n",
        "\n",
        "#Flatten 2D arrays to 1D array\n",
        "model.add(Flatten())\n",
        "\n",
        "# Fully connected layer\n",
        "model.add(Dense(512))\n",
        "model.add(BatchNormalization())\n",
        "model.add(Activation('relu'))\n",
        "#Dropout layers used for prevent the overfitting\n",
        "model.add(Dropout(0.2))\n",
        "#Dense layer have 10 neurons\n",
        "model.add(Dense(10))\n",
        "#the output softmax layer has 10 nodes \n",
        "model.add(Activation('softmax'))"
      ]
    },
    {
      "cell_type": "code",
      "execution_count": null,
      "id": "bf84f25d",
      "metadata": {
        "id": "bf84f25d"
      },
      "outputs": [],
      "source": [
        "#Compile the Model"
      ]
    },
    {
      "cell_type": "code",
      "execution_count": null,
      "id": "3089c844",
      "metadata": {
        "id": "3089c844"
      },
      "outputs": [],
      "source": [
        "#Configure the training process\n",
        "#'adam' is used as the gardient based optimizer\n",
        "#'categorical_crossentropy' used as the loss function .In the output layer  we used Softmax output layer.\n",
        "#'metrics' used as a accuracy metric for the classification problem\n",
        "model.compile('adam',loss='categorical_crossentropy', metrics=['accuracy'])"
      ]
    },
    {
      "cell_type": "code",
      "execution_count": null,
      "id": "85bbb7cf",
      "metadata": {
        "id": "85bbb7cf"
      },
      "outputs": [],
      "source": [
        "#Train the model"
      ]
    },
    {
      "cell_type": "code",
      "execution_count": null,
      "id": "9c5ff62b",
      "metadata": {
        "id": "9c5ff62b"
      },
      "outputs": [],
      "source": [
        "gen = ImageDataGenerator(rotation_range=8, width_shift_range=0.08, shear_range=0.3,\n",
        "                         height_shift_range=0.08, zoom_range=0.08)\n",
        "\n",
        "test_gen = ImageDataGenerator()"
      ]
    },
    {
      "cell_type": "code",
      "execution_count": null,
      "id": "b9af2e8b",
      "metadata": {
        "id": "b9af2e8b"
      },
      "outputs": [],
      "source": [
        "#Training the data"
      ]
    },
    {
      "cell_type": "code",
      "execution_count": null,
      "id": "67b556e4",
      "metadata": {
        "id": "67b556e4"
      },
      "outputs": [],
      "source": [
        "train_generator = gen.flow(X_train, Y_train, batch_size=64)\n",
        "test_generator = test_gen.flow(X_test, Y_test, batch_size=64)"
      ]
    },
    {
      "cell_type": "code",
      "execution_count": null,
      "id": "982b393b",
      "metadata": {
        "id": "982b393b"
      },
      "outputs": [],
      "source": [
        "#Initialize the number of epochs to train that run the number of iterations over the entire dataset\n",
        "#Validate the test data that is used for the training to periodically measure the network's performance against data\n",
        "#Though the epoch number might seem a bit small. However, you will reach to 98–99% test accuracy. Since the MNIST dataset does not require heavy computing power, you may easily experiment with the epoch number as well."
      ]
    },
    {
      "cell_type": "code",
      "execution_count": null,
      "id": "3774955c",
      "metadata": {
        "id": "3774955c",
        "outputId": "f5464820-de7c-4679-fac5-cee75471a6ef"
      },
      "outputs": [
        {
          "name": "stdout",
          "output_type": "stream",
          "text": [
            "Epoch 1/5\n",
            "937/937 [==============================] - 195s 202ms/step - loss: 0.1254 - accuracy: 0.9601 - val_loss: 0.1006 - val_accuracy: 0.9674\n",
            "Epoch 2/5\n",
            "937/937 [==============================] - 208s 222ms/step - loss: 0.0536 - accuracy: 0.9832 - val_loss: 0.0292 - val_accuracy: 0.9901\n",
            "Epoch 3/5\n",
            "937/937 [==============================] - 220s 235ms/step - loss: 0.0434 - accuracy: 0.9863 - val_loss: 0.0327 - val_accuracy: 0.9893\n",
            "Epoch 4/5\n",
            "937/937 [==============================] - 216s 230ms/step - loss: 0.0364 - accuracy: 0.9885 - val_loss: 0.0209 - val_accuracy: 0.9936\n",
            "Epoch 5/5\n",
            "937/937 [==============================] - 238s 254ms/step - loss: 0.0344 - accuracy: 0.9892 - val_loss: 0.0261 - val_accuracy: 0.9911\n"
          ]
        }
      ],
      "source": [
        "model_log = model.fit_generator(train_generator, steps_per_epoch=60000//64, epochs=5, \n",
        "                    validation_data=test_generator, validation_steps=10000//64)"
      ]
    },
    {
      "cell_type": "code",
      "execution_count": null,
      "id": "a085c040",
      "metadata": {
        "id": "a085c040"
      },
      "outputs": [],
      "source": [
        "#Here we achieve 99.26% test accuracy "
      ]
    },
    {
      "cell_type": "code",
      "execution_count": null,
      "id": "7e901d71",
      "metadata": {
        "id": "7e901d71"
      },
      "outputs": [],
      "source": [
        "#Save the model in a disk to load it back anytime"
      ]
    },
    {
      "cell_type": "code",
      "execution_count": null,
      "id": "fdba3eb7",
      "metadata": {
        "id": "fdba3eb7"
      },
      "outputs": [],
      "source": [
        "model.save_weights('cnn.h5')"
      ]
    },
    {
      "cell_type": "code",
      "execution_count": null,
      "id": "f776b329",
      "metadata": {
        "id": "f776b329"
      },
      "outputs": [],
      "source": [
        "#Evaluate the model"
      ]
    },
    {
      "cell_type": "code",
      "execution_count": null,
      "id": "cfecf123",
      "metadata": {
        "id": "cfecf123",
        "outputId": "a587733c-630f-479f-82ae-532b871d1982"
      },
      "outputs": [
        {
          "name": "stdout",
          "output_type": "stream",
          "text": [
            "Test loss: 0.026028146967291832\n",
            "Test accuracy: 0.991100013256073\n"
          ]
        }
      ],
      "source": [
        "score = model.evaluate(X_test, Y_test, verbose=0)\n",
        "print('Test loss:', score[0]) #Test loss: 0.0296396646054\n",
        "print('Test accuracy:', score[1]) #Test accuracy: 0.9904"
      ]
    },
    {
      "cell_type": "code",
      "execution_count": null,
      "id": "8752b095",
      "metadata": {
        "id": "8752b095"
      },
      "outputs": [],
      "source": [
        "#Show an individual predictions "
      ]
    },
    {
      "cell_type": "code",
      "execution_count": null,
      "id": "5d8c06b7",
      "metadata": {
        "id": "5d8c06b7",
        "outputId": "8f24845a-36b0-4fad-d232-ff0ecd6543f7"
      },
      "outputs": [
        {
          "name": "stdout",
          "output_type": "stream",
          "text": [
            "9\n"
          ]
        },
        {
          "data": {
            "image/png": "[encoded data removed]",
            "text/plain": [
              "<Figure size 432x288 with 1 Axes>"
            ]
          },
          "metadata": {
            "needs_background": "light"
          },
          "output_type": "display_data"
        }
      ],
      "source": [
        "#visual of the image\n",
        "image_index = 4444\n",
        "plt.imshow(X_test[image_index].reshape(28, 28),cmap='Greys')\n",
        "pred = model.predict(X_test[image_index].reshape(1, 28, 28, 1))\n",
        "print(pred.argmax())"
      ]
    },
    {
      "cell_type": "code",
      "execution_count": null,
      "id": "76d47262",
      "metadata": {
        "id": "76d47262",
        "outputId": "8ee3e42f-95db-4b92-fb07-88ae67954998"
      },
      "outputs": [
        {
          "data": {
            "image/png": "[encoded data removed]",
            "text/plain": [
              "<Figure size 432x288 with 2 Axes>"
            ]
          },
          "execution_count": 241,
          "metadata": {},
          "output_type": "execute_result"
        },
        {
          "data": {
            "image/png": "[encoded data removed]",
            "text/plain": [
              "<Figure size 432x288 with 2 Axes>"
            ]
          },
          "metadata": {
            "needs_background": "light"
          },
          "output_type": "display_data"
        }
      ],
      "source": [
        "#import os\n",
        "# plotting the metrics\n",
        "fig = plt.figure()\n",
        "plt.subplot(2,1,1)\n",
        "plt.plot(model_log.history['accuracy'])\n",
        "plt.plot(model_log.history['val_accuracy'])\n",
        "plt.title('model accuracy')\n",
        "plt.ylabel('accuracy')\n",
        "plt.xlabel('epoch')\n",
        "plt.legend(['train', 'test'], loc='lower right')\n",
        "\n",
        "plt.subplot(2,1,2)\n",
        "plt.plot(model_log.history['loss'])\n",
        "plt.plot(model_log.history['val_loss'])\n",
        "plt.title('model loss')\n",
        "plt.ylabel('loss')\n",
        "plt.xlabel('epoch')\n",
        "plt.legend(['train', 'test'], loc='upper right')\n",
        "\n",
        "plt.tight_layout()\n",
        "\n",
        "fig"
      ]
    }
  ],
  "metadata": {
    "kernelspec": {
      "display_name": "Python 3",
      "language": "python",
      "name": "python3"
    },
    "language_info": {
      "codemirror_mode": {
        "name": "ipython",
        "version": 3
      },
      "file_extension": ".py",
      "mimetype": "text/x-python",
      "name": "python",
      "nbconvert_exporter": "python",
      "pygments_lexer": "ipython3",
      "version": "3.6.8"
    },
    "colab": {
      "provenance": []
    }
  },
  "nbformat": 4,
  "nbformat_minor": 5
}